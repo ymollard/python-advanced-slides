{
 "cells": [
  {
   "cell_type": "markdown",
   "metadata": {},
   "source": [
    "# Mini-project 1: WARMUP - A dataset with CSV and JSON"
   ]
  },
  {
   "cell_type": "markdown",
   "metadata": {},
   "source": [
    "In this mini-project, we will generate a fake dataset to warmup with dictionaries, functional programming, and the following libraries: `csv`, `json`, `itertools`, `numpy` and `matplotlib`."
   ]
  },
  {
   "cell_type": "markdown",
   "metadata": {},
   "source": [
    "## 1. Generate composed names\n",
    "### 1.1. Define the generation function\n",
    "\n",
    "Write a function that returns a list of permutations to create fake composed names separated by a dash, e.g. `Alice-Maria`. \n",
    "\n",
    "Be careful:\n",
    "* The function has 1 input parameter: a list of first names ; and returns the list of permutations with a \"-\" in-between\n",
    "* The output list must also include the opposite, e.g. `Alice-Maria` and also `Maria-Alice`\n",
    "* The output list must not contain repetitions, e.g. `Bob-Bob` (this is a permutation, not a product)\n",
    "\n",
    "Although Python has tools to do this in some modules, it is a good exercise to start from an exmpty list and fill it progressively with functions we know."
   ]
  },
  {
   "cell_type": "code",
   "execution_count": null,
   "metadata": {},
   "outputs": [],
   "source": [
    "# My code here [...]"
   ]
  },
  {
   "cell_type": "code",
   "execution_count": 4,
   "metadata": {},
   "outputs": [
    {
     "data": {
      "text/plain": [
       "'3.8.10 (default, Sep 28 2021, 16:10:42) \\n[GCC 9.3.0]'"
      ]
     },
     "execution_count": 4,
     "metadata": {},
     "output_type": "execute_result"
    }
   ],
   "source": [
    "import sys\n",
    "sys.version"
   ]
  },
  {
   "cell_type": "code",
   "execution_count": 3,
   "metadata": {},
   "outputs": [
    {
     "ename": "TypeError",
     "evalue": "'type' object is not subscriptable",
     "output_type": "error",
     "traceback": [
      "\u001b[0;31m---------------------------------------------------------------------------\u001b[0m",
      "\u001b[0;31mTypeError\u001b[0m                                 Traceback (most recent call last)",
      "\u001b[0;32m<ipython-input-3-1b6f0a9dd884>\u001b[0m in \u001b[0;36m<module>\u001b[0;34m\u001b[0m\n\u001b[0;32m----> 1\u001b[0;31m \u001b[0;32mdef\u001b[0m \u001b[0mgenerate_fn\u001b[0m\u001b[0;34m(\u001b[0m\u001b[0mnames\u001b[0m\u001b[0;34m:\u001b[0m \u001b[0mlist\u001b[0m\u001b[0;34m[\u001b[0m\u001b[0mstr\u001b[0m\u001b[0;34m]\u001b[0m\u001b[0;34m)\u001b[0m \u001b[0;34m:\u001b[0m\u001b[0;34m\u001b[0m\u001b[0;34m\u001b[0m\u001b[0m\n\u001b[0m\u001b[1;32m      2\u001b[0m     \u001b[0moutput\u001b[0m \u001b[0;34m=\u001b[0m \u001b[0;34m[\u001b[0m\u001b[0;34m]\u001b[0m\u001b[0;34m\u001b[0m\u001b[0;34m\u001b[0m\u001b[0m\n\u001b[1;32m      3\u001b[0m     \u001b[0;32mfor\u001b[0m \u001b[0mname\u001b[0m \u001b[0;32min\u001b[0m \u001b[0mnames\u001b[0m\u001b[0;34m:\u001b[0m\u001b[0;34m\u001b[0m\u001b[0;34m\u001b[0m\u001b[0m\n\u001b[1;32m      4\u001b[0m         \u001b[0;32mfor\u001b[0m \u001b[0mname2\u001b[0m \u001b[0;32min\u001b[0m \u001b[0mnames\u001b[0m\u001b[0;34m:\u001b[0m\u001b[0;34m\u001b[0m\u001b[0;34m\u001b[0m\u001b[0m\n\u001b[1;32m      5\u001b[0m             \u001b[0moutput\u001b[0m\u001b[0;34m.\u001b[0m\u001b[0mappend\u001b[0m\u001b[0;34m(\u001b[0m\u001b[0mname\u001b[0m \u001b[0;34m+\u001b[0m \u001b[0;34m\"-\"\u001b[0m \u001b[0;34m+\u001b[0m \u001b[0mname2\u001b[0m\u001b[0;34m)\u001b[0m\u001b[0;34m\u001b[0m\u001b[0;34m\u001b[0m\u001b[0m\n",
      "\u001b[0;31mTypeError\u001b[0m: 'type' object is not subscriptable"
     ]
    }
   ],
   "source": [
    "def generate_fn(names: list[str]) -> list[str]:\n",
    "    output = []\n",
    "    for name in names:\n",
    "        for name2 in names:\n",
    "            output.append(name + \"-\" + name2)\n",
    "    return output"
   ]
  },
  {
   "cell_type": "markdown",
   "metadata": {},
   "source": [
    "### 4.1.2. Function call\n",
    "\n",
    "Here is a list of 11 first names\n",
    "```\n",
    "names = [\"Bob\", \"Alice\", \"Maria\", \"Albert\", \"Paul\", \"Alex\", \"Luc\", \"Robert\", \"Dylan\", \"Léa\", \"Richard\"]\n",
    "```\n",
    "The function call with this list must return exactly 110 composed names (i.e. the exact number of permutations w/o repetition of 11 elements) stored in a variables named `composed_names`.\n"
   ]
  },
  {
   "cell_type": "code",
   "execution_count": null,
   "metadata": {},
   "outputs": [],
   "source": [
    "# My code here [...]"
   ]
  },
  {
   "cell_type": "markdown",
   "metadata": {},
   "source": [
    "# 4.2. Generate characters as first + last names\n",
    "## 4.2.1. Define the generation function\n",
    "\n",
    "Write a function that returns a list of combinations of composed names and last names separated by a space, e.g. `Paul-Robert Loiseau`.\n",
    "\n",
    "Be careful:\n",
    "* The function has 2 input parameters: a list of composed first names and a list of last names ; and returns a list of combinations\n",
    "* It means that for each last name, we will insert in the resulting list as many characters as there are names in the list of first names\n",
    "* Your list must be in this order: **first name and then last name**, thus it must not contain `Tournesol Paul-Alex` for instance.\n"
   ]
  },
  {
   "cell_type": "code",
   "execution_count": null,
   "metadata": {},
   "outputs": [],
   "source": [
    "# My code here [...]"
   ]
  },
  {
   "cell_type": "markdown",
   "metadata": {},
   "source": [
    "### 4.2.2. Function call\n",
    "\n",
    "Here is a list of 11 last names (from the stories of Tintin):\n",
    "```\n",
    "surnames = [\"Dupont\", \"Dupond\", \"Haddock\", \"Tournesol\", \"Castafiore\", \"Lampion\", \"Lopez\", \"Loiseau\", \"Müller\", \"Sanzot\"]\n",
    "```\n",
    "\n",
    "The function calls of the function from `3.1.2.` and this one must finally return exactly 1100 characters, stored in a variable named `characters`."
   ]
  },
  {
   "cell_type": "code",
   "execution_count": null,
   "metadata": {},
   "outputs": [],
   "source": [
    "# My code here [...]"
   ]
  },
  {
   "cell_type": "markdown",
   "metadata": {},
   "source": [
    "# 4.3. Import data from a CSV file\n",
    "\n",
    "The CSV format (Comma-Separated Values) is a very simple file format to exchange databases (big data, machine learning, and so on) very similar to basic \"Excel\" sheets.\n",
    "\n",
    "Thus we can open CSV files with a spreadsheet (Excel, Libreoffice, Google Docs, ...) or even with a simple text editor (Pycharm or Notepad...). The content looks this way:\n",
    "\n",
    "```\n",
    "First name, Last name, Email, Age, City\n",
    "Robert, Lepingre, bobby@example.com, 41, Paris\n",
    "Mark, Fothergill, jeanne@example.com, 32, London\n",
    "Santiago, Permado, pierre@example.com, 23, Madrid\n",
    "```\n",
    "In this example CSV content, we can read 5 columns separated by commas: first name, last name, email, age and city ; as well as 3 records (3 lines): Robert Mark and Santiago.\n",
    "\n",
    "In order to generate such a file in Python, we can simply use `print()` for each field, then print a comma, then another field, and so one. But in order to read a CSV file, this would be much more complicated to do it manually. Fortunately, Python has a module named `csv` to read and write CSV files!\n",
    "\n",
    "Use the documentation of the `csv` module for the next questions:"
   ]
  },
  {
   "cell_type": "markdown",
   "metadata": {},
   "source": [
    "## 4.3.1. Load the file\n",
    "\n",
    "Open the file `exams.csv`, load its content, and:\n",
    "\n",
    "1. Transform-it in order to get marks by discipline, for instance `math_marks = [15.5, 13, 10.5, 12, ...]`\n",
    "2. Import the numerical module `numpy` and use its functions `mean()` et `std()` to display the mean and the standard deviation of marks by discipline"
   ]
  },
  {
   "cell_type": "code",
   "execution_count": null,
   "metadata": {
    "scrolled": false
   },
   "outputs": [],
   "source": [
    "# My code loading the CSV and displaying the means and std per discipline [...]"
   ]
  },
  {
   "cell_type": "markdown",
   "metadata": {},
   "source": [
    "## 4.3.2. Optional: Plot the density of marks\n",
    "\n",
    "A density plot shows, for each of the 40 possible notes in the horizontal axis (from 0 to 20 with a 0.5 step), the number of appear le nombre d'appearances of this mark, on the vertical axis. This is a way to check how data are distributed."
   ]
  },
  {
   "cell_type": "code",
   "execution_count": null,
   "metadata": {},
   "outputs": [],
   "source": [
    "# Plot the density here [...]"
   ]
  },
  {
   "cell_type": "markdown",
   "metadata": {},
   "source": [
    "_Note_: here we propose to reinvtent the wheel, for the pleasure to manipulate lists and primitive rypes! However if you do datascience with Python, use package `pandas` to do this kind of job.\n",
    "\n",
    "In particular, [`density()`](https://pandas.pydata.org/pandas-docs/stable/reference/api/pandas.DataFrame.plot.density.html) plots a density curve in just a function call.\n"
   ]
  },
  {
   "cell_type": "markdown",
   "metadata": {},
   "source": [
    "## 4.3.3. Create an adapter data structure\n",
    "Transform the data you read in a data structure made of nested dictionaries and/or lists.\n",
    "\n",
    "The structure must represtent the name of students as well as their marks to the 3 exams\n",
    "\n",
    "For instance:\n",
    "```\n",
    "{\n",
    "  \"Alice-Maria Lampion\" : {\"math\": 15, \"french\": 10, \"philosophy\": 11.5},\n",
    "  \"Paul-Alex Loiseau\" : {\"math\": 8.5, \"french\": 17, \"philosophy\": 15},\n",
    "  ...\n",
    "}\n",
    "```\n"
   ]
  },
  {
   "cell_type": "code",
   "execution_count": null,
   "metadata": {},
   "outputs": [],
   "source": [
    "# My code creating the data structure here [...]"
   ]
  },
  {
   "cell_type": "markdown",
   "metadata": {},
   "source": [
    "## 4.3.4. Save you data structure in JSON\n",
    "\n",
    "Import module `json` and use `json.dump()` to save your database un a file: `dataset.json`\n",
    "\n",
    "Protip: add the paramter `indent=4` in order to make your JSON file readable by a human with a simple text editor. Open the file without Python to observer."
   ]
  },
  {
   "cell_type": "code",
   "execution_count": null,
   "metadata": {},
   "outputs": [],
   "source": [
    "# My code saving the data structure in JSON here []"
   ]
  },
  {
   "cell_type": "markdown",
   "metadata": {},
   "source": [
    "## 4.3.5. Read and check\n",
    "\n",
    "We are now going to check that we can load properly the JSON file with `json.load()`.\n",
    "\n",
    "We will first crash voluntarily this Jupyter Notebook in order to start from scratch. Your code will remain in your browser but all variables will be lost."
   ]
  },
  {
   "cell_type": "code",
   "execution_count": null,
   "metadata": {},
   "outputs": [],
   "source": [
    "# We volontarily end the interpreter here to make sure all previous variables are cleared up.\n",
    "import os\n",
    "os._exit(0)"
   ]
  },
  {
   "cell_type": "markdown",
   "metadata": {},
   "source": [
    "Now re-loard the JSON file into a Pytohn variable and consult the math mark of Paul-Robert Müller :"
   ]
  },
  {
   "cell_type": "code",
   "execution_count": 1,
   "metadata": {},
   "outputs": [],
   "source": [
    "# My code loading the saved JSON dataset here [...]"
   ]
  },
  {
   "cell_type": "markdown",
   "metadata": {},
   "source": [
    "## 4.3.6. Optional: adapt to malformed data"
   ]
  },
  {
   "cell_type": "markdown",
   "metadata": {},
   "source": [
    "You crated a JSON file but some file already existed in the current directory. However this second file has many problems.\n",
    "\n",
    "**Your goal**: Write a Python function that:\n",
    "* opens all files from the current directory\n",
    "* check if this is actually a file (not a directory)\n",
    "* check if this is a JSON file (e.g. ends with `.json`)\n",
    "* load the data and adapt to malformed data\n",
    "* compute the mean in mathematics of all students in that directory\n",
    "\n",
    "**Protip**: Consult the documentation of module `os` and have a particular look to functions `isdir, isfile, listdir`. Use function `str.split` to extract the extension and try/catch exceptions with `try..except`."
   ]
  },
  {
   "cell_type": "code",
   "execution_count": null,
   "metadata": {},
   "outputs": [],
   "source": [
    "# My optional code loading malformed JSON files here [...]"
   ]
  },
  {
   "cell_type": "markdown",
   "metadata": {},
   "source": [
    "# Resources\n",
    "\n",
    "* itertools: https://docs.python.org/3/library/itertools.html\n",
    "* Functional programming: https://docs.python.org/3/howto/functional.html\n",
    "* csv: https://docs.python.org/3/library/csv.html\n",
    "* json: https://docs.python.org/fr/3/library/json.html\n",
    "* pandas: https://pandas.pydata.org/pandas-docs/stable/\n",
    "\n"
   ]
  },
  {
   "cell_type": "code",
   "execution_count": null,
   "metadata": {},
   "outputs": [],
   "source": []
  }
 ],
 "metadata": {
  "kernelspec": {
   "display_name": "Python 3",
   "language": "python",
   "name": "python3"
  },
  "language_info": {
   "codemirror_mode": {
    "name": "ipython",
    "version": 3
   },
   "file_extension": ".py",
   "mimetype": "text/x-python",
   "name": "python",
   "nbconvert_exporter": "python",
   "pygments_lexer": "ipython3",
   "version": "3.8.10"
  }
 },
 "nbformat": 4,
 "nbformat_minor": 4
}
