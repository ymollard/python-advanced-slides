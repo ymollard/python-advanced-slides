{
 "cells": [
  {
   "cell_type": "markdown",
   "metadata": {},
   "source": [
    "# Mini-project 1: WARMUP - A dataset with CSV and JSON"
   ]
  },
  {
   "cell_type": "markdown",
   "metadata": {},
   "source": [
    "In this mini-project, we will generate a fake dataset to warmup with dictionaries, functional programming, and the following libraries: `csv`, `json`, `itertools`, `numpy` and `matplotlib`."
   ]
  },
  {
   "cell_type": "markdown",
   "metadata": {},
   "source": [
    "## 1. Generate composed names\n",
    "### 1.1. Generate a regular list with a regular function \n",
    "\n",
    "Write a custom function `generate_composed_names` that returns a list of permutations to create fake composed names separated by a dash, e.g. `Alice-Maria`. \n",
    "\n",
    "Be careful:\n",
    "* The function has 1 input parameter: a list of first names ; and returns the list of permutations with a \"-\" in-between\n",
    "* The output list must also include the opposite, e.g. `Alice-Maria` and also `Maria-Alice`\n",
    "* The output list must not contain repetitions, e.g. `Bob-Bob` (this is a permutation, not a product)\n",
    "\n",
    "Although Python has tools to do this in some modules, it is a good exercise to start from an exmpty list and fill it progressively with functions we know."
   ]
  },
  {
   "cell_type": "code",
   "execution_count": null,
   "metadata": {},
   "outputs": [],
   "source": [
    "# My code here"
   ]
  },
  {
   "cell_type": "markdown",
   "metadata": {},
   "source": [
    "Here is a list of 11 first names\n",
    "```\n",
    "names = [\"Bob\", \"Alice\", \"Maria\", \"Albert\", \"Paul\", \"Alex\", \"Luc\", \"Robert\", \"Dylan\", \"Léa\", \"Richard\"]\n",
    "```\n",
    "The function call with this list must return exactly 110 composed names (i.e. the exact number of permutations w/o repetition of 11 elements) stored in a variables named `composed_names`."
   ]
  },
  {
   "cell_type": "code",
   "execution_count": null,
   "metadata": {},
   "outputs": [],
   "source": [
    "# My code here"
   ]
  },
  {
   "cell_type": "markdown",
   "metadata": {},
   "source": [
    "### 1.2. Use an existing iterator from `itertools`"
   ]
  },
  {
   "cell_type": "markdown",
   "metadata": {},
   "source": [
    "**First**, make a few tests of use of `itertools.permutations` with input lists of integers. [Read the documentation](https://docs.python.org/3/library/itertools.html).\n",
    "- What is the type of the return value?\n",
    "- Cast it in list to get a regular list"
   ]
  },
  {
   "cell_type": "code",
   "execution_count": null,
   "metadata": {},
   "outputs": [],
   "source": [
    "# My code here"
   ]
  },
  {
   "cell_type": "markdown",
   "metadata": {},
   "source": [
    "Now implement a regular function `generate_composed_names_from_permutations(...)` that makes use of `itertools.permutations` in its body. Make sure your final output is a list of 110 strings."
   ]
  },
  {
   "cell_type": "code",
   "execution_count": null,
   "metadata": {},
   "outputs": [],
   "source": [
    "# My code here"
   ]
  },
  {
   "cell_type": "markdown",
   "metadata": {},
   "source": [
    "### 1.3. Performance comparison\n",
    "\n",
    "Use the following to benchmark your functions:\n",
    "- **Time complexity**: the magic `%%timeit` at the beginning of a cell to repeat it and get its average duration of execution\n",
    "- **Space complexity**: call `sys.getsizeof(x)` to get the memory used by a literal `x` (in Bytes)\n",
    "\n",
    "Compare the time and space complexities of the call to the functions above. "
   ]
  },
  {
   "cell_type": "code",
   "execution_count": null,
   "metadata": {},
   "outputs": [],
   "source": [
    "# My code here"
   ]
  },
  {
   "cell_type": "markdown",
   "metadata": {},
   "source": [
    "Did you save any performance by using the iterator this way? And why?"
   ]
  },
  {
   "cell_type": "markdown",
   "metadata": {},
   "source": [
    "*Explain here*"
   ]
  },
  {
   "cell_type": "markdown",
   "metadata": {},
   "source": [
    "# 2. Generate characters as full names\n",
    "We are going to generate full names (first + last names) using different methods again: a generator, an iterator, a  \n",
    "\n",
    "## 2.1. Define the generation function as a Generator\n",
    "\n",
    "Write a custom **generator** named `generate_characters_gen(...)` that returns a list of combinations of composed names and last names separated by a space, e.g. `Paul-Robert Loiseau`.\n",
    "\n",
    "Recall that a generator is a function that uses the `yield` keyword.\n",
    "\n",
    "Be careful:\n",
    "* The function has 2 input parameters: a list of composed first names and a list of last names ; and returns a list of combinations\n",
    "* It means that for each last name, we will insert in the resulting list as many characters as there are names in the list of first names\n",
    "* Your list must be in this order: **first name and then last name**, thus it must not contain `Tournesol Paul-Alex` for instance."
   ]
  },
  {
   "cell_type": "code",
   "execution_count": null,
   "metadata": {},
   "outputs": [],
   "source": [
    "# My code here"
   ]
  },
  {
   "cell_type": "markdown",
   "metadata": {},
   "source": [
    "## 2.2. Call and iterate over the generator\n",
    "\n",
    "Here is a list of 11 last names (from the stories of Tintin):\n",
    "```\n",
    "surnames = [\"Dupont\", \"Dupond\", \"Haddock\", \"Tournesol\", \"Castafiore\", \"Lampion\", \"Lopez\", \"Loiseau\", \"Müller\", \"Sanzot\"]\n",
    "```\n",
    "\n",
    "Call your generator and iterate over it with a regular `for` loop displaying `f\"Character {i} is named {character}\"` each line"
   ]
  },
  {
   "cell_type": "code",
   "execution_count": null,
   "metadata": {},
   "outputs": [],
   "source": [
    "# My code here"
   ]
  },
  {
   "cell_type": "markdown",
   "metadata": {},
   "source": [
    "Observe the return type of the function call and discuss about the difference with an iterator."
   ]
  },
  {
   "cell_type": "markdown",
   "metadata": {},
   "source": [
    "*Explain here*"
   ]
  },
  {
   "cell_type": "markdown",
   "metadata": {},
   "source": [
    "In a loop, iterate over the generator to print the string `f\"Character {i} is named {character}\"` for every full name."
   ]
  },
  {
   "cell_type": "code",
   "execution_count": null,
   "metadata": {},
   "outputs": [],
   "source": [
    "# My code here"
   ]
  },
  {
   "cell_type": "markdown",
   "metadata": {},
   "source": [
    "## 2.3. Define the Iterator\n",
    "\n",
    "Let's write another code to generate the full names again, this time with an  **iterator** named `CharactersIterator`.\n",
    "Recall that an iterator is a class that implements magic methods `__iter__` and `__next__` \n",
    "\n",
    "**Tip:** rely on the existing iterator `itertools.product` to build yours. Your iterator can consume that `product` iterator."
   ]
  },
  {
   "cell_type": "code",
   "execution_count": null,
   "metadata": {},
   "outputs": [],
   "source": [
    "# My code here"
   ]
  },
  {
   "cell_type": "markdown",
   "metadata": {},
   "source": [
    "## 2.4. Declare and iterate over the iterator"
   ]
  },
  {
   "cell_type": "markdown",
   "metadata": {},
   "source": [
    "In a loop, iterate over the iterator to print the string `f\"Character {i} is named {character}\"` for every full name."
   ]
  },
  {
   "cell_type": "code",
   "execution_count": null,
   "metadata": {},
   "outputs": [],
   "source": [
    "# My code here"
   ]
  },
  {
   "cell_type": "markdown",
   "metadata": {},
   "source": [
    "## 2.5. Define a regular function\n",
    "\n",
    "Finally, write a regular function `generate_characters_func` that returns a regular list of the full names by making no use of iterators or generators."
   ]
  },
  {
   "cell_type": "code",
   "execution_count": null,
   "metadata": {},
   "outputs": [],
   "source": [
    "# My code here"
   ]
  },
  {
   "cell_type": "markdown",
   "metadata": {},
   "source": [
    "## 2.6 Performance comparison\n",
    "\n",
    "You have already consumed both the iterator and generator with your prints. Since you cannot rewind them, we have to call them again to get new ones.\n",
    "\n",
    "Assign the following outputs to variables:\n",
    "- Assign the generator call to `characters_gen` (of type `generator`)\n",
    "- Assign the iterator instanciation to `characters_iter` (of type `iterator`)\n",
    "- Assign the output of the function call to `characters_func` (of type `list`)"
   ]
  },
  {
   "cell_type": "code",
   "execution_count": null,
   "metadata": {},
   "outputs": [],
   "source": [
    "# My code here"
   ]
  },
  {
   "cell_type": "markdown",
   "metadata": {},
   "source": [
    "Now benchmark the **time complexity** of these 3 assignments"
   ]
  },
  {
   "cell_type": "code",
   "execution_count": null,
   "metadata": {},
   "outputs": [],
   "source": [
    "# My code here"
   ]
  },
  {
   "cell_type": "markdown",
   "metadata": {},
   "source": [
    "Benchmark also the **space complexity** of these 3 literals:"
   ]
  },
  {
   "cell_type": "code",
   "execution_count": null,
   "metadata": {},
   "outputs": [],
   "source": [
    "# My code here"
   ]
  },
  {
   "cell_type": "markdown",
   "metadata": {},
   "source": [
    "Interpret the results in terms of time and space complexity"
   ]
  },
  {
   "cell_type": "markdown",
   "metadata": {},
   "source": [
    "*Explain here*"
   ]
  },
  {
   "cell_type": "code",
   "execution_count": null,
   "metadata": {},
   "outputs": [],
   "source": [
    "characters = characters_func   # Assign the final list of full names for the next part of the exercise"
   ]
  },
  {
   "cell_type": "markdown",
   "metadata": {},
   "source": [
    "# 3. Import data from a CSV file\n",
    "\n",
    "We will associate to these characters exam marks generated by another program in a CSV file.\n",
    "Use the documentation of the [`csv`](https://docs.python.org/3/library/csv.html) module for the next questions:"
   ]
  },
  {
   "cell_type": "markdown",
   "metadata": {},
   "source": [
    "## 3.1. Load the file\n",
    "\n",
    "Manually download the file [`exams.csv`](https://raw.githubusercontent.com/ymollard/python-advanced-slides/main/exercises/data/exams.csv?token=AAZEO6XULYU2ZIIZJLGSD4DBVANQC). With Python, open it, load its content, and transform-it in order to get marks by discipline, for instance `math_marks = [15, 13...]`"
   ]
  },
  {
   "cell_type": "code",
   "execution_count": null,
   "metadata": {},
   "outputs": [],
   "source": [
    "# My code here"
   ]
  },
  {
   "cell_type": "markdown",
   "metadata": {},
   "source": [
    "Install the numerical module `numpy` with pip in your venv (in the PyCharm system terminal).\n",
    "\n",
    "Use functions `numpy.mean()` et `numy.std()` to get the mean and the standard deviation of marks by discipline"
   ]
  },
  {
   "cell_type": "code",
   "execution_count": null,
   "metadata": {},
   "outputs": [],
   "source": [
    "# My code here"
   ]
  },
  {
   "cell_type": "markdown",
   "metadata": {},
   "source": [
    "## 3.2. Plot the density of marks\n",
    "\n",
    "A density plot shows, for each of the 40 possible notes in the horizontal axis (from 0 to 20 with a 0.5 step), the number of occurences of this mark, on the vertical axis. This is a way to check how data are distributed. We could build this plot by hand but popular Python libraries do it for us. \n",
    "\n",
    "Install the statistical module `pandas`, the plot module `matplotlib` and the scientific module `scipy` with pip in your venv (in the PyCharm system terminal)."
   ]
  },
  {
   "cell_type": "markdown",
   "metadata": {},
   "source": [
    "Use [pandas.DataFrame.plot.density](https://pandas.pydata.org/pandas-docs/stable/reference/api/pandas.DataFrame.plot.density.html) to plot the density of marks."
   ]
  },
  {
   "cell_type": "code",
   "execution_count": null,
   "metadata": {},
   "outputs": [],
   "source": [
    "# My code here"
   ]
  },
  {
   "cell_type": "markdown",
   "metadata": {},
   "source": [
    "# 4. Produce a new dataset\n",
    "## 4.1. Build the new data structure \n",
    "Transform the data you read in a data structure made of nested dictionaries and/or lists.\n",
    "\n",
    "The structure must represtent the name of students as well as their marks to the 3 exams\n",
    "\n",
    "For instance:\n",
    "```\n",
    "{\n",
    "  \"Alice-Maria Lampion\" : {\"math\": 15, \"french\": 10, \"philosophy\": 11.5},\n",
    "  \"Paul-Alex Loiseau\" : {\"math\": 8.5, \"french\": 17, \"philosophy\": 15},\n",
    "  ...\n",
    "}\n",
    "```\n"
   ]
  },
  {
   "cell_type": "code",
   "execution_count": null,
   "metadata": {},
   "outputs": [],
   "source": [
    "# My code here"
   ]
  },
  {
   "cell_type": "markdown",
   "metadata": {},
   "source": [
    "## 4.2. Save you data structure in JSON\n",
    "\n",
    "Import module `json` and use `json.dump()` to save your database un a file: `dataset.json`\n",
    "\n",
    "Protip: add the paramter `indent=4` in order to make your JSON file readable by a human with a simple text editor. Open the file without Python to observer."
   ]
  },
  {
   "cell_type": "code",
   "execution_count": null,
   "metadata": {},
   "outputs": [],
   "source": [
    "# My code here"
   ]
  },
  {
   "cell_type": "markdown",
   "metadata": {},
   "source": [
    "## 4.3. Read and check\n",
    "\n",
    "We are now going to check that we can load properly the JSON file with `json.load()`.\n",
    "\n",
    "We will first crash voluntarily this Jupyter Notebook in order to start from scratch. Your code will remain in your browser but all variables will be lost."
   ]
  },
  {
   "cell_type": "code",
   "execution_count": null,
   "metadata": {},
   "outputs": [],
   "source": [
    "# We volontarily end the interpreter here to make sure all previous variables are cleared up.\n",
    "import os\n",
    "os._exit(0)"
   ]
  },
  {
   "cell_type": "markdown",
   "metadata": {},
   "source": [
    "Now re-load the JSON file into a Python variable and consult the math mark of Paul-Robert Müller :"
   ]
  },
  {
   "cell_type": "code",
   "execution_count": null,
   "metadata": {},
   "outputs": [],
   "source": [
    "# My code here"
   ]
  },
  {
   "cell_type": "markdown",
   "metadata": {},
   "source": [
    "# Resources\n",
    "\n",
    "* itertools: https://docs.python.org/3/library/itertools.html\n",
    "* Functional programming: https://docs.python.org/3/howto/functional.html\n",
    "* csv: https://docs.python.org/3/library/csv.html\n",
    "* json: https://docs.python.org/fr/3/library/json.html\n",
    "* pandas: https://pandas.pydata.org/pandas-docs/stable/\n",
    "\n"
   ]
  },
  {
   "cell_type": "code",
   "execution_count": null,
   "metadata": {},
   "outputs": [],
   "source": []
  }
 ],
 "metadata": {
  "kernelspec": {
   "display_name": "Python 3 (ipykernel)",
   "language": "python",
   "name": "python3"
  },
  "language_info": {
   "codemirror_mode": {
    "name": "ipython",
    "version": 3
   },
   "file_extension": ".py",
   "mimetype": "text/x-python",
   "name": "python",
   "nbconvert_exporter": "python",
   "pygments_lexer": "ipython3",
   "version": "3.9.5"
  }
 },
 "nbformat": 4,
 "nbformat_minor": 4
}
