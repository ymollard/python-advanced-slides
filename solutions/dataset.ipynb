{
 "cells": [
  {
   "cell_type": "markdown",
   "metadata": {},
   "source": [
    "# Mini-project 1: WARMUP - A dataset with CSV and JSON"
   ]
  },
  {
   "cell_type": "markdown",
   "metadata": {},
   "source": [
    "In this mini-project, we will generate a fake dataset to warmup with dictionaries, functional programming, and the following libraries: `csv`, `json`, `itertools`, `numpy` and `matplotlib`."
   ]
  },
  {
   "cell_type": "markdown",
   "metadata": {},
   "source": [
    "## 1. Generate composed names\n",
    "### 1.1. Define the generation function\n",
    "\n",
    "Write a custom function that returns a list of permutations to create fake composed names separated by a dash, e.g. `Alice-Maria`. \n",
    "\n",
    "Be careful:\n",
    "* The function has 1 input parameter: a list of first names ; and returns the list of permutations with a \"-\" in-between\n",
    "* The output list must also include the opposite, e.g. `Alice-Maria` and also `Maria-Alice`\n",
    "* The output list must not contain repetitions, e.g. `Bob-Bob` (this is a permutation, not a product)\n",
    "\n",
    "Although Python has tools to do this in some modules, it is a good exercise to start from an exmpty list and fill it progressively with functions we know."
   ]
  },
  {
   "cell_type": "code",
   "execution_count": 1,
   "metadata": {},
   "outputs": [],
   "source": [
    "# My code here [...]"
   ]
  },
  {
   "cell_type": "code",
   "execution_count": 2,
   "metadata": {},
   "outputs": [],
   "source": [
    "def generate_composed_names(names: list[str]) -> list[str]:\n",
    "    output = []\n",
    "    for name in names:\n",
    "        for name2 in names:\n",
    "            if name != name2:\n",
    "                output.append(name + \"-\" + name2)\n",
    "    return output"
   ]
  },
  {
   "cell_type": "markdown",
   "metadata": {},
   "source": [
    "### 1.2. Function call and comparison to other functions\n",
    "\n",
    "Here is a list of 11 first names\n",
    "```\n",
    "names = [\"Bob\", \"Alice\", \"Maria\", \"Albert\", \"Paul\", \"Alex\", \"Luc\", \"Robert\", \"Dylan\", \"Léa\", \"Richard\"]\n",
    "```\n",
    "The function call with this list must return exactly 110 composed names (i.e. the exact number of permutations w/o repetition of 11 elements) stored in a variables named `composed_names`.\n"
   ]
  },
  {
   "cell_type": "markdown",
   "metadata": {},
   "source": [
    "Use the magic `%%timeit` at the beginning of a cell to repeat it and get its average duration of execution.\n",
    "Compare the durations of:\n",
    "- The average duration of the only call to [`itertools.permutations`](https://docs.python.org/3/library/itertools.html) (with the relevant parameters to generate the composed names)\n",
    "- The average duration of the call to `itertools.permutations` converted in list\n",
    "- The average duration of the list-comprehension of the actual composed names separated by a dash: \"Bob-Alice\", \"Bob-Maria\", ...\n",
    "- The average duration of a call to your custom function"
   ]
  },
  {
   "cell_type": "code",
   "execution_count": 3,
   "metadata": {},
   "outputs": [],
   "source": [
    "# My code here [...]"
   ]
  },
  {
   "cell_type": "code",
   "execution_count": 4,
   "metadata": {},
   "outputs": [],
   "source": [
    "names = [\"Bob\", \"Alice\", \"Maria\", \"Albert\", \"Paul\", \"Alex\", \"Luc\", \"Robert\", \"Dylan\", \"Léa\", \"Richard\"]\n",
    "from itertools import permutations"
   ]
  },
  {
   "cell_type": "code",
   "execution_count": 5,
   "metadata": {},
   "outputs": [
    {
     "name": "stdout",
     "output_type": "stream",
     "text": [
      "124 ns ± 3.87 ns per loop (mean ± std. dev. of 7 runs, 10000000 loops each)\n"
     ]
    }
   ],
   "source": [
    "%%timeit\n",
    "permutations(names, 2)"
   ]
  },
  {
   "cell_type": "code",
   "execution_count": 6,
   "metadata": {},
   "outputs": [
    {
     "name": "stdout",
     "output_type": "stream",
     "text": [
      "3.01 µs ± 61.7 ns per loop (mean ± std. dev. of 7 runs, 100000 loops each)\n"
     ]
    }
   ],
   "source": [
    "%%timeit\n",
    "list(permutations(names, 2))"
   ]
  },
  {
   "cell_type": "code",
   "execution_count": 7,
   "metadata": {},
   "outputs": [
    {
     "name": "stdout",
     "output_type": "stream",
     "text": [
      "12.9 µs ± 1.72 µs per loop (mean ± std. dev. of 7 runs, 100000 loops each)\n"
     ]
    }
   ],
   "source": [
    "%%timeit\n",
    "[a + \"-\" + b for a, b in permutations(names, 2)]"
   ]
  },
  {
   "cell_type": "code",
   "execution_count": 8,
   "metadata": {},
   "outputs": [
    {
     "name": "stdout",
     "output_type": "stream",
     "text": [
      "18.3 µs ± 528 ns per loop (mean ± std. dev. of 7 runs, 100000 loops each)\n"
     ]
    }
   ],
   "source": [
    "%%timeit\n",
    "generate_composed_names(names)"
   ]
  },
  {
   "cell_type": "code",
   "execution_count": null,
   "metadata": {},
   "outputs": [],
   "source": []
  },
  {
   "cell_type": "markdown",
   "metadata": {},
   "source": [
    "# 2. Generate characters as first + last names\n",
    "## 2.1. Define the generation function\n",
    "\n",
    "Write a custom function that returns a list of combinations of composed names and last names separated by a space, e.g. `Paul-Robert Loiseau`.\n",
    "\n",
    "Be careful:\n",
    "* The function has 2 input parameters: a list of composed first names and a list of last names ; and returns a list of combinations\n",
    "* It means that for each last name, we will insert in the resulting list as many characters as there are names in the list of first names\n",
    "* Your list must be in this order: **first name and then last name**, thus it must not contain `Tournesol Paul-Alex` for instance.\n"
   ]
  },
  {
   "cell_type": "code",
   "execution_count": 9,
   "metadata": {},
   "outputs": [],
   "source": [
    "# My code here [...]"
   ]
  },
  {
   "cell_type": "code",
   "execution_count": 10,
   "metadata": {},
   "outputs": [],
   "source": [
    "def generate_characters(names: list[str], surnames: list[str]) -> list[str]:\n",
    "    output = []\n",
    "    for name in names:\n",
    "        for surname in surnames:\n",
    "            output.append(name + \" \" + surname)\n",
    "    return output"
   ]
  },
  {
   "cell_type": "markdown",
   "metadata": {},
   "source": [
    "### 2.2. Function call\n",
    "\n",
    "Here is a list of 11 last names (from the stories of Tintin):\n",
    "```\n",
    "surnames = [\"Dupont\", \"Dupond\", \"Haddock\", \"Tournesol\", \"Castafiore\", \"Lampion\", \"Lopez\", \"Loiseau\", \"Müller\", \"Sanzot\"]\n",
    "```\n",
    "\n",
    "The function calls of the function from `3.1.2.` and this one must finally return exactly 1100 characters, stored in a variable named `characters`."
   ]
  },
  {
   "cell_type": "markdown",
   "metadata": {},
   "source": [
    "Use the magic `%%timeit` to compare the speed of execution of your custom function with [`itertools.product`](https://docs.python.org/3/library/itertools.html). Compare:\n",
    "- The average duration of the only call to `itertools.product` \n",
    "- The average duration of the call to `itertools.product` converted in list\n",
    "- The average duration of the list-comprehension of the actual composed names separated by a dash\n",
    "- The average duration of a call to your custom function"
   ]
  },
  {
   "cell_type": "code",
   "execution_count": 11,
   "metadata": {},
   "outputs": [],
   "source": [
    "# My code here [...]"
   ]
  },
  {
   "cell_type": "code",
   "execution_count": 12,
   "metadata": {},
   "outputs": [],
   "source": [
    "surnames = [\"Dupont\", \"Dupond\", \"Haddock\", \"Tournesol\", \"Castafiore\", \"Lampion\", \"Lopez\", \"Loiseau\", \"Müller\", \"Sanzot\"]\n",
    "from itertools import product\n",
    "composed_names = generate_composed_names(names)"
   ]
  },
  {
   "cell_type": "code",
   "execution_count": 13,
   "metadata": {},
   "outputs": [
    {
     "name": "stdout",
     "output_type": "stream",
     "text": [
      "452 ns ± 31.7 ns per loop (mean ± std. dev. of 7 runs, 1000000 loops each)\n"
     ]
    }
   ],
   "source": [
    "%%timeit\n",
    "product(composed_names, surnames)"
   ]
  },
  {
   "cell_type": "code",
   "execution_count": 14,
   "metadata": {},
   "outputs": [
    {
     "name": "stdout",
     "output_type": "stream",
     "text": [
      "34.5 µs ± 1.26 µs per loop (mean ± std. dev. of 7 runs, 10000 loops each)\n"
     ]
    }
   ],
   "source": [
    "%%timeit\n",
    "list(product(composed_names, surnames))"
   ]
  },
  {
   "cell_type": "code",
   "execution_count": 15,
   "metadata": {},
   "outputs": [
    {
     "name": "stdout",
     "output_type": "stream",
     "text": [
      "146 µs ± 13.2 µs per loop (mean ± std. dev. of 7 runs, 10000 loops each)\n"
     ]
    }
   ],
   "source": [
    "%%timeit\n",
    "[\" \".join(full_name) for full_name in product(composed_names, surnames)]"
   ]
  },
  {
   "cell_type": "code",
   "execution_count": 16,
   "metadata": {},
   "outputs": [
    {
     "name": "stdout",
     "output_type": "stream",
     "text": [
      "164 µs ± 9.91 µs per loop (mean ± std. dev. of 7 runs, 10000 loops each)\n"
     ]
    }
   ],
   "source": [
    "%%timeit\n",
    "generate_characters(composed_names, surnames)"
   ]
  },
  {
   "cell_type": "code",
   "execution_count": 17,
   "metadata": {},
   "outputs": [],
   "source": [
    "characters = [\" \".join(full_name) for full_name in product(composed_names, surnames)]"
   ]
  },
  {
   "cell_type": "markdown",
   "metadata": {},
   "source": [
    "## Intermediary conclusion\n",
    "\n",
    "In the context of this project, our custom functions have the poorest performance compared to the comprehensions because:\n",
    "- There is a function call every time\n",
    "- We generate useless data in composed names (e.g. \"Bob-Bob\" that we filter with a `if` statement later\n",
    "\n",
    "In general, it is always advisable to use functions coming from builtin modules, such as `itertools`, instead of equivalent custom functions. Resources of builtin modules are full of micro-optimizations to reduce both time and space complexities."
   ]
  },
  {
   "cell_type": "markdown",
   "metadata": {},
   "source": [
    "# 3. Import data from a CSV file\n",
    "\n",
    "We will associate to these characters exam marks generated by another program in a CSV file.\n",
    "Use the documentation of the [`csv`](https://docs.python.org/3/library/csv.html) module for the next questions:"
   ]
  },
  {
   "cell_type": "markdown",
   "metadata": {},
   "source": [
    "## 3.1. Load the file\n",
    "\n",
    "Manually download the file [`exams.csv`](https://raw.githubusercontent.com/ymollard/python-advanced-slides/main/exercises/data/exams.csv?token=AAZEO6XULYU2ZIIZJLGSD4DBVANQC). With Python, open it, load its content, and transform-it in order to get marks by discipline, for instance `math_marks = [15, 13...]`"
   ]
  },
  {
   "cell_type": "code",
   "execution_count": null,
   "metadata": {},
   "outputs": [],
   "source": [
    "# My code loading the CSV and displaying the means and std per discipline [...]"
   ]
  },
  {
   "cell_type": "code",
   "execution_count": 18,
   "metadata": {},
   "outputs": [],
   "source": [
    "import csv\n",
    "\n",
    "french_marks = []\n",
    "math_marks = []\n",
    "philo_marks = []\n",
    "\n",
    "with open(\"/tmp/exams.csv\") as f:\n",
    "    reader = csv.reader(f, delimiter=',')\n",
    "    for i, line in enumerate(reader):\n",
    "        if i != 0:  # Skip the first line (column headers)\n",
    "            french_marks.append(float(line[0]))\n",
    "            math_marks.append(float(line[1]))\n",
    "            philo_marks.append(float(line[2]))"
   ]
  },
  {
   "cell_type": "markdown",
   "metadata": {},
   "source": [
    "Install the numerical module `numpy` with pip in your venv (in the PyCharm system terminal).\n",
    "\n",
    "Use functions `numpy.mean()` et `numy.std()` to get the mean and the standard deviation of marks by discipline"
   ]
  },
  {
   "cell_type": "code",
   "execution_count": 19,
   "metadata": {},
   "outputs": [
    {
     "data": {
      "text/plain": [
       "(10.308181818181819, 11.959545454545454, 8.563181818181818)"
      ]
     },
     "execution_count": 19,
     "metadata": {},
     "output_type": "execute_result"
    }
   ],
   "source": [
    "import numpy\n",
    "numpy.mean(french_marks), numpy.mean(math_marks), numpy.mean(philo_marks)"
   ]
  },
  {
   "cell_type": "code",
   "execution_count": 20,
   "metadata": {},
   "outputs": [
    {
     "data": {
      "text/plain": [
       "(3.4537234667998487, 4.760581493580883, 4.495033508180937)"
      ]
     },
     "execution_count": 20,
     "metadata": {},
     "output_type": "execute_result"
    }
   ],
   "source": [
    "numpy.std(french_marks), numpy.std(math_marks), numpy.std(philo_marks)"
   ]
  },
  {
   "cell_type": "markdown",
   "metadata": {},
   "source": [
    "## 3.2. Plot the density of marks\n",
    "\n",
    "A density plot shows, for each of the 40 possible notes in the horizontal axis (from 0 to 20 with a 0.5 step), the number of occurences of this mark, on the vertical axis. This is a way to check how data are distributed. We could build this plot by hand but popular Python libraries do it for us. \n",
    "\n",
    "Install the statistical module `pandas`, the plot module `matplotlib` and the scientific module `scipy` with pip in your venv (in the PyCharm system terminal)."
   ]
  },
  {
   "cell_type": "markdown",
   "metadata": {},
   "source": [
    "Use [pandas.DataFrame.plot.density](https://pandas.pydata.org/pandas-docs/stable/reference/api/pandas.DataFrame.plot.density.html) to plot the density of marks."
   ]
  },
  {
   "cell_type": "code",
   "execution_count": 21,
   "metadata": {},
   "outputs": [],
   "source": [
    "# Plot the density here [...]"
   ]
  },
  {
   "cell_type": "code",
   "execution_count": 22,
   "metadata": {},
   "outputs": [
    {
     "data": {
      "text/plain": [
       "<AxesSubplot:ylabel='Density'>"
      ]
     },
     "execution_count": 22,
     "metadata": {},
     "output_type": "execute_result"
    },
    {
     "data": {
      "image/png": "[encoded data removed]",
      "text/plain": [
       "<Figure size 432x288 with 1 Axes>"
      ]
     },
     "metadata": {
      "needs_background": "light"
     },
     "output_type": "display_data"
    }
   ],
   "source": [
    "import pandas\n",
    "frame = pandas.DataFrame(math_marks)\n",
    "frame.plot.density()"
   ]
  },
  {
   "cell_type": "markdown",
   "metadata": {},
   "source": [
    "## 3. Create an adapter data structure\n",
    "Transform the data you read in a data structure made of nested dictionaries and/or lists.\n",
    "\n",
    "The structure must represtent the name of students as well as their marks to the 3 exams\n",
    "\n",
    "For instance:\n",
    "```\n",
    "{\n",
    "  \"Alice-Maria Lampion\" : {\"math\": 15, \"french\": 10, \"philosophy\": 11.5},\n",
    "  \"Paul-Alex Loiseau\" : {\"math\": 8.5, \"french\": 17, \"philosophy\": 15},\n",
    "  ...\n",
    "}\n",
    "```\n"
   ]
  },
  {
   "cell_type": "code",
   "execution_count": 23,
   "metadata": {},
   "outputs": [],
   "source": [
    "# My code creating the data structure here [...]"
   ]
  },
  {
   "cell_type": "code",
   "execution_count": 24,
   "metadata": {},
   "outputs": [],
   "source": [
    "dataset = {}\n",
    "for i_full_name, full_name in enumerate(characters):\n",
    "    try:\n",
    "        dataset[full_name] = {\n",
    "            \"math\": math_marks[i_full_name],\n",
    "            \"french\": french_marks[i_full_name],\n",
    "            \"philosophy\": philo_marks[i_full_name]\n",
    "        }\n",
    "    except IndexError:\n",
    "        # If we miss marks from the CSV, IndexError will be raised, in that case stop and keep the dataset built so far\n",
    "        break"
   ]
  },
  {
   "cell_type": "markdown",
   "metadata": {},
   "source": [
    "## 3.1. Save you data structure in JSON\n",
    "\n",
    "Import module `json` and use `json.dump()` to save your database un a file: `dataset.json`\n",
    "\n",
    "Protip: add the paramter `indent=4` in order to make your JSON file readable by a human with a simple text editor. Open the file without Python to observer."
   ]
  },
  {
   "cell_type": "code",
   "execution_count": 25,
   "metadata": {},
   "outputs": [],
   "source": [
    "# My code saving the data structure in JSON here []"
   ]
  },
  {
   "cell_type": "code",
   "execution_count": 26,
   "metadata": {},
   "outputs": [],
   "source": [
    "import json\n",
    "with open(\"./dataset.json\", \"w\") as f:\n",
    "    json.dump(dataset, f)"
   ]
  },
  {
   "cell_type": "markdown",
   "metadata": {},
   "source": [
    "## 3.2. Read and check\n",
    "\n",
    "We are now going to check that we can load properly the JSON file with `json.load()`.\n",
    "\n",
    "We will first crash voluntarily this Jupyter Notebook in order to start from scratch. Your code will remain in your browser but all variables will be lost."
   ]
  },
  {
   "cell_type": "code",
   "execution_count": null,
   "metadata": {},
   "outputs": [],
   "source": [
    "# We volontarily end the interpreter here to make sure all previous variables are cleared up.\n",
    "import os\n",
    "os._exit(0)"
   ]
  },
  {
   "cell_type": "markdown",
   "metadata": {},
   "source": [
    "Now re-load the JSON file into a Python variable and consult the math mark of Paul-Robert Müller :"
   ]
  },
  {
   "cell_type": "code",
   "execution_count": 1,
   "metadata": {},
   "outputs": [],
   "source": [
    "# My code loading the saved JSON dataset here [...]"
   ]
  },
  {
   "cell_type": "code",
   "execution_count": 2,
   "metadata": {},
   "outputs": [],
   "source": [
    "import json\n",
    "with open(\"./dataset.json\") as f:\n",
    "    dataset = json.load(f)"
   ]
  },
  {
   "cell_type": "code",
   "execution_count": 3,
   "metadata": {},
   "outputs": [
    {
     "name": "stdout",
     "output_type": "stream",
     "text": [
      "Here is a mark coming from the loaded JSON: 6.0\n"
     ]
    }
   ],
   "source": [
    "print(\"Here is a mark coming from the loaded JSON:\", dataset[\"Paul-Robert Müller\"][\"math\"])"
   ]
  },
  {
   "cell_type": "markdown",
   "metadata": {},
   "source": [
    "## 3.3. Optional: adapt to malformed data"
   ]
  },
  {
   "cell_type": "markdown",
   "metadata": {},
   "source": [
    "You crated a JSON file but some file already existed in the current directory. However this second file has many problems.\n",
    "\n",
    "**Your goal**: Write a Python function that:\n",
    "* opens all files from the current directory\n",
    "* check if this is actually a file (not a directory)\n",
    "* check if this is a JSON file (e.g. ends with `.json`)\n",
    "* load the data and adapt to malformed data\n",
    "* compute the mean in mathematics of all students in that directory\n",
    "\n",
    "Use the module [`pathlib`](https://docs.python.org/fr/3/library/pathlib.html) to handle file paths, existence and type. Take note that `os.path` is now deprecated."
   ]
  },
  {
   "cell_type": "code",
   "execution_count": null,
   "metadata": {},
   "outputs": [],
   "source": [
    "# My optional code loading malformed JSON files here [...]"
   ]
  },
  {
   "cell_type": "markdown",
   "metadata": {},
   "source": [
    "# Resources\n",
    "\n",
    "* itertools: https://docs.python.org/3/library/itertools.html\n",
    "* Functional programming: https://docs.python.org/3/howto/functional.html\n",
    "* csv: https://docs.python.org/3/library/csv.html\n",
    "* json: https://docs.python.org/fr/3/library/json.html\n",
    "* pandas: https://pandas.pydata.org/pandas-docs/stable/\n",
    "\n"
   ]
  },
  {
   "cell_type": "code",
   "execution_count": null,
   "metadata": {},
   "outputs": [],
   "source": []
  }
 ],
 "metadata": {
  "kernelspec": {
   "display_name": "Python 3",
   "language": "python",
   "name": "python3"
  },
  "language_info": {
   "codemirror_mode": {
    "name": "ipython",
    "version": 3
   },
   "file_extension": ".py",
   "mimetype": "text/x-python",
   "name": "python",
   "nbconvert_exporter": "python",
   "pygments_lexer": "ipython3",
   "version": "3.9.5"
  }
 },
 "nbformat": 4,
 "nbformat_minor": 4
}
